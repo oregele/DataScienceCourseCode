{
 "cells": [
  {
   "cell_type": "markdown",
   "metadata": {},
   "source": [
    "# XML example and exercise\n",
    "****\n",
    "+ study examples of accessing nodes in XML tree structure  \n",
    "+ work on exercise to be completed and submitted\n",
    "****\n",
    "+ reference: https://docs.python.org/2.7/library/xml.etree.elementtree.html\n",
    "+ data source: http://www.dbis.informatik.uni-goettingen.de/Mondial\n",
    "****"
   ]
  },
  {
   "cell_type": "code",
   "execution_count": 2,
   "metadata": {
    "collapsed": true
   },
   "outputs": [],
   "source": [
    "from xml.etree import ElementTree as ET"
   ]
  },
  {
   "cell_type": "markdown",
   "metadata": {},
   "source": [
    "## XML example\n",
    "\n",
    "+ for details about tree traversal and iterators, see https://docs.python.org/2.7/library/xml.etree.elementtree.html"
   ]
  },
  {
   "cell_type": "code",
   "execution_count": 3,
   "metadata": {
    "collapsed": true
   },
   "outputs": [],
   "source": [
    "document_tree = ET.parse( './data/mondial_database_less.xml' )"
   ]
  },
  {
   "cell_type": "code",
   "execution_count": 9,
   "metadata": {
    "collapsed": false
   },
   "outputs": [
    {
     "name": "stdout",
     "output_type": "stream",
     "text": [
      "Albania\n",
      "Greece\n",
      "Macedonia\n",
      "Serbia\n",
      "Montenegro\n",
      "Kosovo\n",
      "Andorra\n"
     ]
    }
   ],
   "source": [
    "# print names of all countries\n",
    "for child in document_tree.getroot():\n",
    "    print(child.find('name').text)"
   ]
  },
  {
   "cell_type": "code",
   "execution_count": 18,
   "metadata": {
    "collapsed": false
   },
   "outputs": [
    {
     "name": "stdout",
     "output_type": "stream",
     "text": [
      "* Albania:\n",
      "\tTirana, Shkodër, Durrës, Vlorë, Elbasan, Korçë\n",
      "* Greece:\n",
      "\tKomotini, Kavala, Athina, Peiraias, Peristeri, Acharnes, Patra, Kozani, Kerkyra, Ioannina, Thessaloniki, Iraklio, Chania, Ermoupoli, Rhodes, Tripoli, Lamia, Chalkida, Larissa, Volos, Mytilini, Karyes\n",
      "* Macedonia:\n",
      "\tSkopje, Kumanovo\n",
      "* Serbia:\n",
      "\tBeograd, Novi Sad, Niš\n",
      "* Montenegro:\n",
      "\tPodgorica\n",
      "* Kosovo:\n",
      "\tPrishtine\n",
      "* Andorra:\n",
      "\tAndorra la Vella\n"
     ]
    }
   ],
   "source": [
    "# print names of all countries and their cities\n",
    "for element in document_tree.iterfind('country'):\n",
    "    print('* ' + element.find('name').text + ':',)\n",
    "    capitals_string = ''\n",
    "    for subelement in element.getiterator('city'):\n",
    "        capitals_string += subelement.find('name').text + ', '\n",
    "    print('\\t' + capitals_string[:-2])"
   ]
  },
  {
   "cell_type": "markdown",
   "metadata": {},
   "source": [
    "****\n",
    "## XML exercise\n",
    "\n",
    "Using data in 'data/mondial_database.xml', the examples above, and refering to https://docs.python.org/2.7/library/xml.etree.elementtree.html, find\n",
    "\n",
    "1. 10 countries with the lowest infant mortality rates\n",
    "2. 10 cities with the largest population\n",
    "3. 10 ethnic groups with the largest overall populations (sum of best/latest estimates over all countries)\n",
    "4. name and country of a) longest river, b) largest lake and c) airport at highest elevation"
   ]
  },
  {
   "cell_type": "code",
   "execution_count": 74,
   "metadata": {
    "collapsed": false
   },
   "outputs": [],
   "source": [
    "import pandas as pd\n",
    "document = ET.parse( './data/mondial_database.xml' )"
   ]
  },
  {
   "cell_type": "code",
   "execution_count": 117,
   "metadata": {
    "collapsed": false
   },
   "outputs": [
    {
     "name": "stdout",
     "output_type": "stream",
     "text": [
      "            Country  Infant_Mortality\n",
      "36           Monaco              1.81\n",
      "90            Japan              2.13\n",
      "109         Bermuda              2.48\n",
      "34           Norway              2.48\n",
      "98        Singapore              2.53\n",
      "35           Sweden              2.60\n",
      "8    Czech Republic              2.63\n",
      "72        Hong Kong              2.73\n",
      "73            Macao              3.13\n",
      "39          Iceland              3.15\n"
     ]
    }
   ],
   "source": [
    "#Problem 1: 10 Countries with lowest infant mortality rates\n",
    "\n",
    "#Init list for Country and Mortality Pairs\n",
    "infMortList = []\n",
    "\n",
    "for child in document.iterfind('country'):\n",
    "    if (child.find('infant_mortality') != None):\n",
    "        #Appending lists of country and mortality to larger list\n",
    "        infMortList.append([child.find('name').text, float(child.find('infant_mortality').text)])\n",
    "\n",
    "#Changing everything over to a DataFrame\n",
    "infMort = pd.DataFrame(infMortList,columns=['Country','Infant_Mortality'])\n",
    "\n",
    "#Sorting and printing top ten countries with lowest Infant Mortality Rate\n",
    "print(infMort.sort_values(by='Infant_Mortality', ascending=True).head(10))        \n"
   ]
  },
  {
   "cell_type": "code",
   "execution_count": 195,
   "metadata": {
    "collapsed": false
   },
   "outputs": [
    {
     "name": "stdout",
     "output_type": "stream",
     "text": [
      "          City  Population(2011)\n",
      "529     Mumbai          12442373\n",
      "554      Delhi          11034555\n",
      "523  Bangalore           8443675\n",
      "418     London           8250205\n",
      "487     Tehran           8154051\n",
      "505      Dhaka           7423137\n",
      "558  Hyderabad           6731790\n",
      "518  Ahmadabad           5577940\n",
      "627     Luanda           5000000\n",
      "542    Chennai           4646732\n"
     ]
    }
   ],
   "source": [
    "#Problem 2: 10 cities with largest population\n",
    "\n",
    "#Init City/Pop List\n",
    "cityPops = []\n",
    "\n",
    "#Finding all nested subelements named city (Hopefully the ones nested in provinces too)\n",
    "for city in document.findall('.//city'):\n",
    "    for pop in city.findall(\"population\"):\n",
    "        #Selecting the population metrics from 2011 (seems to be latest from this dataset)\n",
    "        if (pop.attrib['year'] == '2011'):\n",
    "            cityPops.append([city.find('name').text, int(pop.text)])\n",
    "\n",
    "            #Creating the Pandas Dataframe from the lists            \n",
    "cityPopsDF = pd.DataFrame(cityPops,columns=['City','Population(2011)'])\n",
    "\n",
    "#Sorting and printing top ten Cities with the highest Population\n",
    "print(cityPopsDF.sort_values(by='Population(2011)', ascending=False).head(10))    "
   ]
  },
  {
   "cell_type": "code",
   "execution_count": 255,
   "metadata": {
    "collapsed": false
   },
   "outputs": [
    {
     "name": "stdout",
     "output_type": "stream",
     "text": [
      "                      0\n",
      "Han Chinese  1245058800\n",
      "Indo-Aryan    871815583\n",
      "European      494872221\n",
      "African       318325121\n",
      "Dravidian     302713744\n",
      "Mestizo       157734355\n",
      "Bengali       146776917\n",
      "Russian       131856994\n",
      "Japanese      126534212\n",
      "Malay         121993550\n"
     ]
    }
   ],
   "source": [
    "#Problem 3: 10 ethnic groups with highest population (best, most recent estimates)\n",
    "\n",
    "#Create the ethnic group dictionary\n",
    "ethGrpsPop = {}\n",
    "\n",
    "for cnt in document.findall('country'):\n",
    "    #Find the most recent population measure (shows up last in the iterable)\n",
    "    currPop = int(cnt.findall('population')[-1].text)\n",
    "    #Get all of the ethnic group elements\n",
    "    for ethGrp in cnt.findall('ethnicgroup'):\n",
    "        #Update or add to dictionary with ethnic group population\n",
    "        ethGrpsPop[ethGrp.text] = ethGrpsPop.get(ethGrp.text,0) + round(currPop * float(ethGrp.attrib['percentage'])/100)\n",
    "\n",
    "ethGrpsPopDF = pd.DataFrame.from_dict(ethGrpsPop, orient='index')\n",
    "print(ethGrpsPopDF.sort_values(by=0, ascending = False).head(10))\n"
   ]
  },
  {
   "cell_type": "code",
   "execution_count": 286,
   "metadata": {
    "collapsed": false,
    "scrolled": true
   },
   "outputs": [
    {
     "name": "stdout",
     "output_type": "stream",
     "text": [
      "The longest river is the Amazonas. It is located in CO BR PE and it is 6448 units long\n",
      "The largest lake is the Caspian Sea. It is located in R AZ KAZ IR TM and it is 386400 units large\n",
      "The highest airport is the El Alto Intl. It is located in BOL and it is 4063 units high\n"
     ]
    }
   ],
   "source": [
    "#Problem 4: Name and Country of a) longest river, b) largest lake and c) airport at highest elevation\n",
    "\n",
    "#Problem 4a:\n",
    "longest = 0\n",
    "for rvr in document.findall('river'):\n",
    "    if (rvr.find('length'))!= None and float(rvr.find('length').text)  > longest:\n",
    "        rvrName = rvr.find('name').text\n",
    "        rvrCnt = rvr.attrib['country']\n",
    "        rvrLen = rvr.find('length').text\n",
    "        longest = float(rvrLen)\n",
    "\n",
    "print('The longest river is the ' + rvrName, end= '. ')\n",
    "print('It is located in ' + rvrCnt, end= ' ')\n",
    "print('and it is %s units long' % rvrLen)\n",
    "\n",
    "#Problem 4b:\n",
    "largest = 0\n",
    "for lk in document.findall('lake'):\n",
    "    if (lk.find('area'))!= None and float(lk.find('area').text)  > largest:\n",
    "        lkName = lk.find('name').text\n",
    "        lkCnt = lk.attrib['country']\n",
    "        lkAr = lk.find('area').text\n",
    "        largest = float(lkAr)\n",
    "\n",
    "print('The largest lake is the ' + lkName, end= '. ')\n",
    "print('It is located in ' + lkCnt, end= ' ')\n",
    "print('and it is %s units large' % lkAr)\n",
    "\n",
    "#Problem 4c:\n",
    "highest = 0\n",
    "for air in document.findall('airport'):\n",
    "    if (air.find('elevation'))!= None and (air.find('elevation').text)!= None and float(air.find('elevation').text)  > highest:\n",
    "        airName = air.find('name').text\n",
    "        airCnt = air.attrib['country']\n",
    "        airHigh = air.find('elevation').text\n",
    "        highest = float(airHigh)\n",
    "\n",
    "print('The highest airport is the ' + airName, end= '. ')\n",
    "print('It is located in ' + airCnt, end= ' ')\n",
    "print('and it is %s units high' % airHigh)"
   ]
  },
  {
   "cell_type": "code",
   "execution_count": null,
   "metadata": {
    "collapsed": true
   },
   "outputs": [],
   "source": []
  },
  {
   "cell_type": "code",
   "execution_count": null,
   "metadata": {
    "collapsed": true
   },
   "outputs": [],
   "source": []
  },
  {
   "cell_type": "code",
   "execution_count": null,
   "metadata": {
    "collapsed": true
   },
   "outputs": [],
   "source": []
  },
  {
   "cell_type": "code",
   "execution_count": null,
   "metadata": {
    "collapsed": true
   },
   "outputs": [],
   "source": []
  },
  {
   "cell_type": "code",
   "execution_count": null,
   "metadata": {
    "collapsed": true
   },
   "outputs": [],
   "source": []
  }
 ],
 "metadata": {
  "kernelspec": {
   "display_name": "Python [Root]",
   "language": "python",
   "name": "Python [Root]"
  },
  "language_info": {
   "codemirror_mode": {
    "name": "ipython",
    "version": 3
   },
   "file_extension": ".py",
   "mimetype": "text/x-python",
   "name": "python",
   "nbconvert_exporter": "python",
   "pygments_lexer": "ipython3",
   "version": "3.5.1"
  }
 },
 "nbformat": 4,
 "nbformat_minor": 0
}
